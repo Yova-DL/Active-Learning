{
  "nbformat": 4,
  "nbformat_minor": 0,
  "metadata": {
    "colab": {
      "name": "model_TPU",
      "version": "0.3.2",
      "provenance": [],
      "include_colab_link": true
    },
    "kernelspec": {
      "name": "python3",
      "display_name": "Python 3"
    },
    "accelerator": "TPU"
  },
  "cells": [
    {
      "cell_type": "markdown",
      "metadata": {
        "id": "view-in-github",
        "colab_type": "text"
      },
      "source": [
        "<a href=\"https://colab.research.google.com/github/Yova-DL/Active-Learning/blob/master/model_TPU.ipynb\" target=\"_parent\"><img src=\"https://colab.research.google.com/assets/colab-badge.svg\" alt=\"Open In Colab\"/></a>"
      ]
    },
    {
      "cell_type": "code",
      "metadata": {
        "id": "MBqemlIYLKI5",
        "colab_type": "code",
        "outputId": "b7ee616b-c86b-467f-bb23-6ac83f1e7268",
        "colab": {
          "base_uri": "https://localhost:8080/",
          "height": 34
        }
      },
      "source": [
        "from google.colab import drive\n",
        "drive.mount('/content/gdrive')"
      ],
      "execution_count": 0,
      "outputs": [
        {
          "output_type": "stream",
          "text": [
            "Drive already mounted at /content/gdrive; to attempt to forcibly remount, call drive.mount(\"/content/gdrive\", force_remount=True).\n"
          ],
          "name": "stdout"
        }
      ]
    },
    {
      "cell_type": "code",
      "metadata": {
        "id": "p9kI3z7TLaNv",
        "colab_type": "code",
        "colab": {}
      },
      "source": [
        "from keras.preprocessing.image import ImageDataGenerator\n",
        "from keras.models import Sequential\n",
        "from keras.layers import Conv2D, MaxPooling2D\n",
        "from keras.layers import Activation, Dropout, Flatten, Dense\n",
        "from keras.layers.advanced_activations import LeakyReLU\n",
        "from keras import backend as K\n",
        "import tensorflow as tf\n",
        "\n",
        "import os"
      ],
      "execution_count": 0,
      "outputs": []
    },
    {
      "cell_type": "code",
      "metadata": {
        "id": "_U9dtwjiLhB_",
        "colab_type": "code",
        "colab": {}
      },
      "source": [
        "# dimensions of our images.\n",
        "img_width, img_height = 128, 128\n",
        "\n",
        "train_data_dir = '/content/gdrive/My Drive/data/train'\n",
        "validation_data_dir = '/content/gdrive/My Drive/data/validation'\n",
        "nb_train_samples = 2051\n",
        "nb_validation_samples = 1127\n",
        "epochs = 20\n",
        "batch_size = 150\n",
        "learning_rate = 0.001\n",
        "\n",
        "if K.image_data_format() == 'channels_first':\n",
        "    input_shape = (3, img_width, img_height)\n",
        "else:\n",
        "    input_shape = (img_width, img_height, 3)"
      ],
      "execution_count": 0,
      "outputs": []
    },
    {
      "cell_type": "code",
      "metadata": {
        "id": "jFws2uXVLm87",
        "colab_type": "code",
        "outputId": "db20b2d7-a4bf-4d29-e662-22a43c872fe5",
        "colab": {
          "base_uri": "https://localhost:8080/",
          "height": 646
        }
      },
      "source": [
        "model = tf.keras.models.Sequential()\n",
        "#model.add(tf.keras.layers.BatchNormalization(input_shape=input_shape))\n",
        "model.add(tf.keras.layers.Conv2D(64, (5, 5),input_shape=input_shape, padding='same', activation='relu'))\n",
        "model.add(tf.keras.layers.MaxPooling2D(pool_size=(2, 2), strides=(2,2)))\n",
        "model.add(tf.keras.layers.Dropout(0.25))\n",
        "\n",
        "#model.add(tf.keras.layers.BatchNormalization(input_shape=input_shape))\n",
        "model.add(tf.keras.layers.Conv2D(128, (5, 5), padding='same', activation='relu'))\n",
        "model.add(tf.keras.layers.MaxPooling2D(pool_size=(2, 2)))\n",
        "model.add(tf.keras.layers.Dropout(0.25))\n",
        "\n",
        "#model.add(tf.keras.layers.BatchNormalization(input_shape=input_shape))\n",
        "model.add(tf.keras.layers.Conv2D(256, (5, 5), padding='same', activation='relu'))\n",
        "model.add(tf.keras.layers.MaxPooling2D(pool_size=(2, 2), strides=(2,2)))\n",
        "model.add(tf.keras.layers.Dropout(0.25))\n",
        "\n",
        "model.add(tf.keras.layers.Flatten())\n",
        "\n",
        "model.add(tf.keras.layers.Dense(256))\n",
        "model.add(tf.keras.layers.Activation('relu'))\n",
        "model.add(tf.keras.layers.Dropout(0.5))\n",
        "model.add(tf.keras.layers.Dense(120))\n",
        "model.add(tf.keras.layers.Activation('softmax'))\n",
        "model.summary()"
      ],
      "execution_count": 0,
      "outputs": [
        {
          "output_type": "stream",
          "text": [
            "_________________________________________________________________\n",
            "Layer (type)                 Output Shape              Param #   \n",
            "=================================================================\n",
            "conv2d_35 (Conv2D)           (None, 128, 128, 64)      4864      \n",
            "_________________________________________________________________\n",
            "max_pooling2d_33 (MaxPooling (None, 64, 64, 64)        0         \n",
            "_________________________________________________________________\n",
            "dropout_41 (Dropout)         (None, 64, 64, 64)        0         \n",
            "_________________________________________________________________\n",
            "conv2d_36 (Conv2D)           (None, 64, 64, 128)       204928    \n",
            "_________________________________________________________________\n",
            "max_pooling2d_34 (MaxPooling (None, 32, 32, 128)       0         \n",
            "_________________________________________________________________\n",
            "dropout_42 (Dropout)         (None, 32, 32, 128)       0         \n",
            "_________________________________________________________________\n",
            "conv2d_37 (Conv2D)           (None, 32, 32, 256)       819456    \n",
            "_________________________________________________________________\n",
            "max_pooling2d_35 (MaxPooling (None, 16, 16, 256)       0         \n",
            "_________________________________________________________________\n",
            "dropout_43 (Dropout)         (None, 16, 16, 256)       0         \n",
            "_________________________________________________________________\n",
            "flatten_11 (Flatten)         (None, 65536)             0         \n",
            "_________________________________________________________________\n",
            "dense_25 (Dense)             (None, 256)               16777472  \n",
            "_________________________________________________________________\n",
            "activation_31 (Activation)   (None, 256)               0         \n",
            "_________________________________________________________________\n",
            "dropout_44 (Dropout)         (None, 256)               0         \n",
            "_________________________________________________________________\n",
            "dense_26 (Dense)             (None, 120)               30840     \n",
            "_________________________________________________________________\n",
            "activation_32 (Activation)   (None, 120)               0         \n",
            "=================================================================\n",
            "Total params: 17,837,560\n",
            "Trainable params: 17,837,560\n",
            "Non-trainable params: 0\n",
            "_________________________________________________________________\n"
          ],
          "name": "stdout"
        }
      ]
    },
    {
      "cell_type": "code",
      "metadata": {
        "id": "AdkcxKMs4als",
        "colab_type": "code",
        "colab": {}
      },
      "source": [
        "\"\"\"model = tf.keras.models.Sequential()\n",
        "model.add(tf.keras.layers.BatchNormalization(input_shape=input_shape))\n",
        "model.add(tf.keras.layers.Conv2D(64, (5, 5), padding='same', activation='elu'))\n",
        "model.add(tf.keras.layers.MaxPooling2D(pool_size=(2, 2), strides=(2,2)))\n",
        "model.add(tf.keras.layers.Dropout(0.25))\n",
        "\n",
        "model.add(tf.keras.layers.BatchNormalization(input_shape=input_shape))\n",
        "model.add(tf.keras.layers.Conv2D(128, (5, 5), padding='same', activation='elu'))\n",
        "model.add(tf.keras.layers.MaxPooling2D(pool_size=(2, 2)))\n",
        "model.add(tf.keras.layers.Dropout(0.25))\n",
        "\n",
        "model.add(tf.keras.layers.BatchNormalization(input_shape=input_shape))\n",
        "model.add(tf.keras.layers.Conv2D(256, (5, 5), padding='same', activation='elu'))\n",
        "model.add(tf.keras.layers.MaxPooling2D(pool_size=(2, 2), strides=(2,2)))\n",
        "model.add(tf.keras.layers.Dropout(0.25))\n",
        "\n",
        "model.add(tf.keras.layers.Flatten())\n",
        "model.add(tf.keras.layers.Dense(256))\n",
        "model.add(tf.keras.layers.Activation('elu'))\n",
        "model.add(tf.keras.layers.Dropout(0.5))\n",
        "model.add(tf.keras.layers.Dense(120))\n",
        "model.add(tf.keras.layers.Activation('softmax'))\n",
        "model.summary()\"\"\""
      ],
      "execution_count": 0,
      "outputs": []
    },
    {
      "cell_type": "code",
      "metadata": {
        "id": "qkG1WLpILyU3",
        "colab_type": "code",
        "outputId": "38688bbe-c4cb-451f-f1dd-c696ea56b7fd",
        "colab": {
          "base_uri": "https://localhost:8080/",
          "height": 34
        }
      },
      "source": [
        "import os\n",
        "import pprint\n",
        "import tensorflow as tf\n",
        "try:\n",
        "    device_name = os.environ['COLAB_TPU_ADDR']\n",
        "    TPU_ADDRESS = 'grpc://' + device_name\n",
        "    print('Found TPU at: {}'.format(TPU_ADDRESS))\n",
        "\n",
        "except KeyError:\n",
        "    print('TPU not found')"
      ],
      "execution_count": 0,
      "outputs": [
        {
          "output_type": "stream",
          "text": [
            "Found TPU at: grpc://10.121.53.50:8470\n"
          ],
          "name": "stdout"
        }
      ]
    },
    {
      "cell_type": "code",
      "metadata": {
        "id": "HkpDi2EmL5M5",
        "colab_type": "code",
        "outputId": "49584012-e0a0-4ef7-fb26-0dc12eca8be0",
        "colab": {
          "base_uri": "https://localhost:8080/",
          "height": 323
        }
      },
      "source": [
        "import os\n",
        "tpu_model = tf.contrib.tpu.keras_to_tpu_model(\n",
        "    model,\n",
        "    strategy=tf.contrib.tpu.TPUDistributionStrategy(\n",
        "        tf.contrib.cluster_resolver.TPUClusterResolver(tpu='grpc://' + os.environ['COLAB_TPU_ADDR'])\n",
        "    )\n",
        ")"
      ],
      "execution_count": 0,
      "outputs": [
        {
          "output_type": "stream",
          "text": [
            "INFO:tensorflow:Querying Tensorflow master (grpc://10.121.53.50:8470) for TPU system metadata.\n",
            "INFO:tensorflow:Found TPU system:\n",
            "INFO:tensorflow:*** Num TPU Cores: 8\n",
            "INFO:tensorflow:*** Num TPU Workers: 1\n",
            "INFO:tensorflow:*** Num TPU Cores Per Worker: 8\n",
            "INFO:tensorflow:*** Available Device: _DeviceAttributes(/job:worker/replica:0/task:0/device:CPU:0, CPU, -1, 1602933831699297956)\n",
            "INFO:tensorflow:*** Available Device: _DeviceAttributes(/job:worker/replica:0/task:0/device:XLA_CPU:0, XLA_CPU, 17179869184, 9865927338885245100)\n",
            "INFO:tensorflow:*** Available Device: _DeviceAttributes(/job:worker/replica:0/task:0/device:TPU:0, TPU, 17179869184, 6498742636253750920)\n",
            "INFO:tensorflow:*** Available Device: _DeviceAttributes(/job:worker/replica:0/task:0/device:TPU:1, TPU, 17179869184, 17574813446661927591)\n",
            "INFO:tensorflow:*** Available Device: _DeviceAttributes(/job:worker/replica:0/task:0/device:TPU:2, TPU, 17179869184, 3571871047653749089)\n",
            "INFO:tensorflow:*** Available Device: _DeviceAttributes(/job:worker/replica:0/task:0/device:TPU:3, TPU, 17179869184, 10057124702183847542)\n",
            "INFO:tensorflow:*** Available Device: _DeviceAttributes(/job:worker/replica:0/task:0/device:TPU:4, TPU, 17179869184, 15536276703126808819)\n",
            "INFO:tensorflow:*** Available Device: _DeviceAttributes(/job:worker/replica:0/task:0/device:TPU:5, TPU, 17179869184, 9462597625411060641)\n",
            "INFO:tensorflow:*** Available Device: _DeviceAttributes(/job:worker/replica:0/task:0/device:TPU:6, TPU, 17179869184, 9842423496445170821)\n",
            "INFO:tensorflow:*** Available Device: _DeviceAttributes(/job:worker/replica:0/task:0/device:TPU:7, TPU, 17179869184, 13495547461165360672)\n",
            "INFO:tensorflow:*** Available Device: _DeviceAttributes(/job:worker/replica:0/task:0/device:TPU_SYSTEM:0, TPU_SYSTEM, 17179869184, 3113080118362798506)\n",
            "WARNING:tensorflow:tpu_model (from tensorflow.contrib.tpu.python.tpu.keras_support) is experimental and may change or be removed at any time, and without warning.\n",
            "WARNING:tensorflow:Lost remote session: creating a new session.\n"
          ],
          "name": "stdout"
        }
      ]
    },
    {
      "cell_type": "code",
      "metadata": {
        "id": "xGRCmTna1PJC",
        "colab_type": "code",
        "colab": {}
      },
      "source": [
        "\n",
        "tpu_model.compile(\n",
        "    optimizer=tf.train.AdamOptimizer(),\n",
        "    loss=tf.keras.losses.categorical_crossentropy,#tf.keras.losses.categorical_crossentropy,\n",
        "    metrics=[tf.keras.metrics.categorical_crossentropy],#['categorical_accuracy']\n",
        ")"
      ],
      "execution_count": 0,
      "outputs": []
    },
    {
      "cell_type": "code",
      "metadata": {
        "id": "pxdGKnMjL_ez",
        "colab_type": "code",
        "outputId": "4cfda441-57a7-4a6f-8ad9-fb08ebc42111",
        "colab": {
          "base_uri": "https://localhost:8080/",
          "height": 680
        }
      },
      "source": [
        "tpu_model.summary()"
      ],
      "execution_count": 0,
      "outputs": [
        {
          "output_type": "stream",
          "text": [
            "_________________________________________________________________\n",
            "Layer (type)                 Output Shape              Param #   \n",
            "=================================================================\n",
            "conv2d_35_input (InputLayer) (None, 128, 128, 3)       0         \n",
            "_________________________________________________________________\n",
            "conv2d_35 (Conv2D)           (None, 128, 128, 64)      4864      \n",
            "_________________________________________________________________\n",
            "max_pooling2d_33 (MaxPooling (None, 64, 64, 64)        0         \n",
            "_________________________________________________________________\n",
            "dropout_41 (Dropout)         (None, 64, 64, 64)        0         \n",
            "_________________________________________________________________\n",
            "conv2d_36 (Conv2D)           (None, 64, 64, 128)       204928    \n",
            "_________________________________________________________________\n",
            "max_pooling2d_34 (MaxPooling (None, 32, 32, 128)       0         \n",
            "_________________________________________________________________\n",
            "dropout_42 (Dropout)         (None, 32, 32, 128)       0         \n",
            "_________________________________________________________________\n",
            "conv2d_37 (Conv2D)           (None, 32, 32, 256)       819456    \n",
            "_________________________________________________________________\n",
            "max_pooling2d_35 (MaxPooling (None, 16, 16, 256)       0         \n",
            "_________________________________________________________________\n",
            "dropout_43 (Dropout)         (None, 16, 16, 256)       0         \n",
            "_________________________________________________________________\n",
            "flatten_11 (Flatten)         (None, 65536)             0         \n",
            "_________________________________________________________________\n",
            "dense_25 (Dense)             (None, 256)               16777472  \n",
            "_________________________________________________________________\n",
            "activation_31 (Activation)   (None, 256)               0         \n",
            "_________________________________________________________________\n",
            "dropout_44 (Dropout)         (None, 256)               0         \n",
            "_________________________________________________________________\n",
            "dense_26 (Dense)             (None, 120)               30840     \n",
            "_________________________________________________________________\n",
            "activation_32 (Activation)   (None, 120)               0         \n",
            "=================================================================\n",
            "Total params: 17,837,560\n",
            "Trainable params: 17,837,560\n",
            "Non-trainable params: 0\n",
            "_________________________________________________________________\n"
          ],
          "name": "stdout"
        }
      ]
    },
    {
      "cell_type": "markdown",
      "metadata": {
        "id": "TrsufQcIMI9w",
        "colab_type": "text"
      },
      "source": [
        "Visualiser le modèle"
      ]
    },
    {
      "cell_type": "code",
      "metadata": {
        "id": "cIMl3ytYMJen",
        "colab_type": "code",
        "colab": {}
      },
      "source": [
        "import keras\n",
        "import pydot as pyd\n",
        "from IPython.display import SVG\n",
        "from keras.utils.vis_utils import model_to_dot\n",
        "\n",
        "keras.utils.vis_utils.pydot = pyd\n",
        "\n",
        "#Visualize Model\n",
        "\n",
        "def visualize_model(model):\n",
        "    return SVG(model_to_dot(model).create(prog='dot', format='svg'))\n",
        "#create your model\n",
        "#then call the function on your model\n",
        "visualize_model(tpu_model)"
      ],
      "execution_count": 0,
      "outputs": []
    },
    {
      "cell_type": "code",
      "metadata": {
        "id": "Y-uth6S7MOju",
        "colab_type": "code",
        "outputId": "f5f9972e-cdfd-4257-9662-9ae0322e6404",
        "colab": {
          "base_uri": "https://localhost:8080/",
          "height": 51
        }
      },
      "source": [
        "train_datagen = ImageDataGenerator(\n",
        "    rescale=1. / 255,\n",
        "    shear_range=0.2,\n",
        "    zoom_range=0.2,\n",
        "    horizontal_flip=True)\n",
        "\n",
        "# this is the augmentation configuration we will use for testing:\n",
        "# only rescaling\n",
        "test_datagen = ImageDataGenerator(rescale=1. / 255)\n",
        "\n",
        "train_generator = train_datagen.flow_from_directory(\n",
        "    train_data_dir,\n",
        "    target_size=(img_width, img_height),\n",
        "    batch_size=batch_size,\n",
        "    class_mode='categorical')#binary ,categorical\n",
        "\n",
        "validation_generator = test_datagen.flow_from_directory(\n",
        "    validation_data_dir,\n",
        "    target_size=(img_width, img_height),\n",
        "    batch_size=batch_size,\n",
        "    class_mode='categorical')\n"
      ],
      "execution_count": 0,
      "outputs": [
        {
          "output_type": "stream",
          "text": [
            "Found 2051 images belonging to 120 classes.\n",
            "Found 1127 images belonging to 120 classes.\n"
          ],
          "name": "stdout"
        }
      ]
    },
    {
      "cell_type": "code",
      "metadata": {
        "id": "D3m8gjGV2RPU",
        "colab_type": "code",
        "outputId": "c908f962-180b-4527-e36e-3761e8068732",
        "colab": {
          "base_uri": "https://localhost:8080/",
          "height": 1414
        }
      },
      "source": [
        "model_fit=tpu_model.fit_generator(\n",
        "    train_generator,\n",
        "    steps_per_epoch=nb_train_samples // batch_size,\n",
        "    epochs=epochs,\n",
        "    validation_data=validation_generator,\n",
        "    validation_steps=nb_validation_samples // batch_size,\n",
        "   \n",
        ")"
      ],
      "execution_count": 0,
      "outputs": [
        {
          "output_type": "stream",
          "text": [
            "Epoch 1/20\n",
            "INFO:tensorflow:New input shapes; (re-)compiling: mode=train (# of cores 8), [TensorSpec(shape=(18,), dtype=tf.int32, name='core_id_60'), TensorSpec(shape=(18, 128, 128, 3), dtype=tf.float32, name='conv2d_35_input_10'), TensorSpec(shape=(18, 120), dtype=tf.float32, name='activation_32_target_10')]\n",
            "INFO:tensorflow:Overriding default placeholder.\n",
            "INFO:tensorflow:Remapping placeholder for conv2d_35_input\n",
            "INFO:tensorflow:Started compiling\n",
            "INFO:tensorflow:Finished compiling. Time elapsed: 7.185805082321167 secs\n",
            "INFO:tensorflow:Setting weights on TPU model.\n",
            " 3/14 [=====>........................] - ETA: 1:02 - loss: 7.7054 - categorical_crossentropy: 7.7054INFO:tensorflow:New input shapes; (re-)compiling: mode=train (# of cores 8), [TensorSpec(shape=(12,), dtype=tf.int32, name='core_id_60'), TensorSpec(shape=(12, 128, 128, 3), dtype=tf.float32, name='conv2d_35_input_10'), TensorSpec(shape=(12, 120), dtype=tf.float32, name='activation_32_target_10')]\n",
            "INFO:tensorflow:Overriding default placeholder.\n",
            "INFO:tensorflow:Remapping placeholder for conv2d_35_input\n",
            "INFO:tensorflow:Started compiling\n",
            "INFO:tensorflow:Finished compiling. Time elapsed: 7.250722408294678 secs\n",
            "13/14 [==========================>...] - ETA: 2s - loss: 5.4661 - categorical_crossentropy: 5.4838INFO:tensorflow:New input shapes; (re-)compiling: mode=eval (# of cores 8), [TensorSpec(shape=(18,), dtype=tf.int32, name='core_id_70'), TensorSpec(shape=(18, 128, 128, 3), dtype=tf.float32, name='conv2d_35_input_10'), TensorSpec(shape=(18, 120), dtype=tf.float32, name='activation_32_target_10')]\n",
            "INFO:tensorflow:Overriding default placeholder.\n",
            "INFO:tensorflow:Remapping placeholder for conv2d_35_input\n",
            "INFO:tensorflow:Started compiling\n",
            "INFO:tensorflow:Finished compiling. Time elapsed: 5.754398345947266 secs\n",
            "7/8 [=========================>....] - ETA: 1s - loss: 4.7875 - categorical_crossentropy: 4.7875INFO:tensorflow:New input shapes; (re-)compiling: mode=eval (# of cores 8), [TensorSpec(shape=(9,), dtype=tf.int32, name='core_id_70'), TensorSpec(shape=(9, 128, 128, 3), dtype=tf.float32, name='conv2d_35_input_10'), TensorSpec(shape=(9, 120), dtype=tf.float32, name='activation_32_target_10')]\n",
            "INFO:tensorflow:Overriding default placeholder.\n",
            "INFO:tensorflow:Remapping placeholder for conv2d_35_input\n",
            "INFO:tensorflow:Started compiling\n",
            "INFO:tensorflow:Finished compiling. Time elapsed: 5.89616322517395 secs\n",
            "8/8 [==============================] - 15s 2s/step - loss: 4.7875 - categorical_crossentropy: 4.7875\n",
            "14/14 [==============================] - 47s 3s/step - loss: 5.4193 - categorical_crossentropy: 5.4335 - val_loss: 4.7875 - val_categorical_crossentropy: 4.7875\n",
            "Epoch 2/20\n",
            "8/8 [==============================] - 7s 873ms/step - loss: 4.7875 - categorical_crossentropy: 4.7875\n",
            "14/14 [==============================] - 11s 818ms/step - loss: 4.7878 - categorical_crossentropy: 4.7878 - val_loss: 4.7875 - val_categorical_crossentropy: 4.7875\n",
            "Epoch 3/20\n",
            "8/8 [==============================] - 7s 864ms/step - loss: 4.7876 - categorical_crossentropy: 4.7878\n",
            "14/14 [==============================] - 19s 1s/step - loss: 4.7882 - categorical_crossentropy: 4.7882 - val_loss: 4.7876 - val_categorical_crossentropy: 4.7878\n",
            "Epoch 4/20\n",
            "8/8 [==============================] - 7s 878ms/step - loss: 4.7876 - categorical_crossentropy: 4.7876\n",
            "14/14 [==============================] - 20s 1s/step - loss: 4.7884 - categorical_crossentropy: 4.7884 - val_loss: 4.7876 - val_categorical_crossentropy: 4.7876\n",
            "Epoch 5/20\n",
            "8/8 [==============================] - 7s 870ms/step - loss: 4.7876 - categorical_crossentropy: 4.7876\n",
            "14/14 [==============================] - 19s 1s/step - loss: 4.7877 - categorical_crossentropy: 4.7877 - val_loss: 4.7876 - val_categorical_crossentropy: 4.7876\n",
            "Epoch 6/20\n",
            "8/8 [==============================] - 7s 875ms/step - loss: 4.7876 - categorical_crossentropy: 4.7877\n",
            "14/14 [==============================] - 20s 1s/step - loss: 4.7875 - categorical_crossentropy: 4.7875 - val_loss: 4.7876 - val_categorical_crossentropy: 4.7877\n",
            "Epoch 7/20\n",
            "8/8 [==============================] - 7s 873ms/step - loss: 4.7876 - categorical_crossentropy: 4.7876\n",
            "14/14 [==============================] - 20s 1s/step - loss: 4.7877 - categorical_crossentropy: 4.7877 - val_loss: 4.7876 - val_categorical_crossentropy: 4.7876\n",
            "Epoch 8/20\n",
            "8/8 [==============================] - 7s 885ms/step - loss: 4.7876 - categorical_crossentropy: 4.7876\n",
            "14/14 [==============================] - 20s 1s/step - loss: 4.7876 - categorical_crossentropy: 4.7876 - val_loss: 4.7876 - val_categorical_crossentropy: 4.7876\n",
            "Epoch 9/20\n",
            "8/8 [==============================] - 7s 880ms/step - loss: 4.7876 - categorical_crossentropy: 4.7876\n",
            "14/14 [==============================] - 20s 1s/step - loss: 4.7876 - categorical_crossentropy: 4.7876 - val_loss: 4.7876 - val_categorical_crossentropy: 4.7876\n",
            "Epoch 10/20\n",
            "8/8 [==============================] - 7s 885ms/step - loss: 4.7877 - categorical_crossentropy: 4.7876\n",
            "14/14 [==============================] - 20s 1s/step - loss: 4.7875 - categorical_crossentropy: 4.7876 - val_loss: 4.7877 - val_categorical_crossentropy: 4.7876\n",
            "Epoch 11/20\n",
            "8/8 [==============================] - 7s 891ms/step - loss: 4.7877 - categorical_crossentropy: 4.7877\n",
            "14/14 [==============================] - 20s 1s/step - loss: 4.7876 - categorical_crossentropy: 4.7876 - val_loss: 4.7877 - val_categorical_crossentropy: 4.7877\n",
            "Epoch 12/20\n",
            "8/8 [==============================] - 7s 883ms/step - loss: 4.7877 - categorical_crossentropy: 4.7877\n",
            "14/14 [==============================] - 20s 1s/step - loss: 4.7875 - categorical_crossentropy: 4.7875 - val_loss: 4.7877 - val_categorical_crossentropy: 4.7877\n",
            "Epoch 13/20\n",
            "8/8 [==============================] - 7s 885ms/step - loss: 4.7877 - categorical_crossentropy: 4.7877\n",
            "14/14 [==============================] - 20s 1s/step - loss: 4.7875 - categorical_crossentropy: 4.7875 - val_loss: 4.7877 - val_categorical_crossentropy: 4.7877\n",
            "Epoch 14/20\n",
            "8/8 [==============================] - 7s 902ms/step - loss: 4.7878 - categorical_crossentropy: 4.7877\n",
            "14/14 [==============================] - 20s 1s/step - loss: 4.7875 - categorical_crossentropy: 4.7875 - val_loss: 4.7878 - val_categorical_crossentropy: 4.7877\n",
            "Epoch 15/20\n",
            "8/8 [==============================] - 7s 883ms/step - loss: 4.7877 - categorical_crossentropy: 4.7877\n",
            "14/14 [==============================] - 20s 1s/step - loss: 4.7877 - categorical_crossentropy: 4.7876 - val_loss: 4.7877 - val_categorical_crossentropy: 4.7877\n",
            "Epoch 16/20\n",
            "8/8 [==============================] - 7s 888ms/step - loss: 4.7877 - categorical_crossentropy: 4.7876\n",
            "14/14 [==============================] - 20s 1s/step - loss: 4.7874 - categorical_crossentropy: 4.7874 - val_loss: 4.7877 - val_categorical_crossentropy: 4.7876\n",
            "Epoch 17/20\n",
            "8/8 [==============================] - 7s 864ms/step - loss: 4.7877 - categorical_crossentropy: 4.7876\n",
            "14/14 [==============================] - 20s 1s/step - loss: 4.7875 - categorical_crossentropy: 4.7875 - val_loss: 4.7877 - val_categorical_crossentropy: 4.7876\n",
            "Epoch 18/20\n",
            "8/8 [==============================] - 7s 862ms/step - loss: 4.7877 - categorical_crossentropy: 4.7877\n",
            "14/14 [==============================] - 19s 1s/step - loss: 4.7876 - categorical_crossentropy: 4.7876 - val_loss: 4.7877 - val_categorical_crossentropy: 4.7877\n",
            "Epoch 19/20\n",
            "8/8 [==============================] - 7s 890ms/step - loss: 4.7878 - categorical_crossentropy: 4.7877\n",
            "14/14 [==============================] - 20s 1s/step - loss: 4.7876 - categorical_crossentropy: 4.7876 - val_loss: 4.7878 - val_categorical_crossentropy: 4.7877\n",
            "Epoch 20/20\n",
            "8/8 [==============================] - 7s 882ms/step - loss: 4.7878 - categorical_crossentropy: 4.7877\n",
            "14/14 [==============================] - 20s 1s/step - loss: 4.7874 - categorical_crossentropy: 4.7874 - val_loss: 4.7878 - val_categorical_crossentropy: 4.7877\n"
          ],
          "name": "stdout"
        }
      ]
    },
    {
      "cell_type": "code",
      "metadata": {
        "id": "BFWOPFlUevEK",
        "colab_type": "code",
        "colab": {}
      },
      "source": [
        "score = tpu_model.evaluate_generator(validation_generator, nb_validation_samples/batch_size, workers=12)"
      ],
      "execution_count": 0,
      "outputs": []
    },
    {
      "cell_type": "code",
      "metadata": {
        "id": "CFxOUFhWe3QK",
        "colab_type": "code",
        "outputId": "df8b0cd4-ef43-42c6-a909-d111226164d8",
        "colab": {
          "base_uri": "https://localhost:8080/",
          "height": 51
        }
      },
      "source": [
        "print(\"Erreur: \", 100*score[0],\"%\") \n",
        "print(\"Précision: \",100* score[1],\"%\")"
      ],
      "execution_count": 0,
      "outputs": [
        {
          "output_type": "stream",
          "text": [
            "Erreur:  478.7712633609772 %\n",
            "Précision:  478.7717819213867 %\n"
          ],
          "name": "stdout"
        }
      ]
    },
    {
      "cell_type": "code",
      "metadata": {
        "id": "Kcq9HbcKfEZT",
        "colab_type": "code",
        "outputId": "dd0e17e5-c583-451f-fd0c-3dbbb6599727",
        "colab": {
          "base_uri": "https://localhost:8080/",
          "height": 312
        }
      },
      "source": [
        "import matplotlib.pyplot as plt\n",
        "plt.plot(model_fit.history['loss'], 'blue')\n",
        "plt.plot(model_fit.history['val_loss'], 'orange')\n",
        "plt.title('Model Loss ')\n",
        "plt.ylabel('loss')\n",
        "plt.xlabel('accuracy')\n",
        "plt.savefig('/content/gdrive/My Drive/data/model_loss_tpu')\n",
        "plt.legend(['train', 'validate'], loc='upper left')"
      ],
      "execution_count": 0,
      "outputs": [
        {
          "output_type": "execute_result",
          "data": {
            "text/plain": [
              "<matplotlib.legend.Legend at 0x7f830cf83518>"
            ]
          },
          "metadata": {
            "tags": []
          },
          "execution_count": 156
        },
        {
          "output_type": "display_data",
          "data": {
            "image/png": "[encoded data removed]",
            "text/plain": [
              "<Figure size 432x288 with 1 Axes>"
            ]
          },
          "metadata": {
            "tags": []
          }
        }
      ]
    },
    {
      "cell_type": "code",
      "metadata": {
        "id": "7F1RvEklfiMU",
        "colab_type": "code",
        "outputId": "6513c9df-eeab-4f90-c9c9-e734eb6dc65f",
        "colab": {
          "base_uri": "https://localhost:8080/",
          "height": 312
        }
      },
      "source": [
        "plt.plot(model_fit.history['categorical_crossentropy'], 'blue')\n",
        "plt.plot(model_fit.history['val_categorical_crossentropy'], 'orange')\n",
        "plt.title('Model accuracy ')\n",
        "plt.ylabel('loss')\n",
        "plt.xlabel('accuracy')\n",
        "plt.legend(['train', 'validate'], loc='upper left')\n",
        "plt.savefig('/content/gdrive/My Drive/data/model_loss_tpu')\n",
        "plt.legend(['train', 'validate'], loc='upper left')"
      ],
      "execution_count": 0,
      "outputs": [
        {
          "output_type": "execute_result",
          "data": {
            "text/plain": [
              "<matplotlib.legend.Legend at 0x7f830cf41978>"
            ]
          },
          "metadata": {
            "tags": []
          },
          "execution_count": 159
        },
        {
          "output_type": "display_data",
          "data": {
            "image/png": "[encoded data removed]",
            "text/plain": [
              "<Figure size 432x288 with 1 Axes>"
            ]
          },
          "metadata": {
            "tags": []
          }
        }
      ]
    },
    {
      "cell_type": "code",
      "metadata": {
        "id": "gJqTWfm0MaWV",
        "colab_type": "code",
        "colab": {}
      },
      "source": [
        "from livelossplot import PlotLossesKeras\n",
        "model_fit=tpu_model.fit_generator(train_generator,\n",
        "    steps_per_epoch=nb_train_samples // batch_size,\n",
        "    epochs=epochs,\n",
        "    validation_data=validation_generator,\n",
        "    validation_steps=nb_validation_samples // batch_size,\n",
        "    callbacks=[PlotLossesKeras()],\n",
        "    verbose=0,\n",
        ")"
      ],
      "execution_count": 0,
      "outputs": []
    }
  ]
}